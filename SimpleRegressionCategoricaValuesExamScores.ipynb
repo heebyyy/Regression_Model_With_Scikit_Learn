{
 "cells": [
  {
   "cell_type": "code",
   "execution_count": 13,
   "metadata": {},
   "outputs": [],
   "source": [
    "import pandas as pd\n",
    "import matplotlib.pyplot as plt\n",
    "\n",
    "from sklearn.model_selection import train_test_split\n",
    "from sklearn.linear_model import LinearRegression\n",
    "from sklearn.metrics import r2_score"
   ]
  },
  {
   "cell_type": "code",
   "execution_count": 2,
   "metadata": {},
   "outputs": [
    {
     "data": {
      "text/html": [
       "<div>\n",
       "<style scoped>\n",
       "    .dataframe tbody tr th:only-of-type {\n",
       "        vertical-align: middle;\n",
       "    }\n",
       "\n",
       "    .dataframe tbody tr th {\n",
       "        vertical-align: top;\n",
       "    }\n",
       "\n",
       "    .dataframe thead th {\n",
       "        text-align: right;\n",
       "    }\n",
       "</style>\n",
       "<table border=\"1\" class=\"dataframe\">\n",
       "  <thead>\n",
       "    <tr style=\"text-align: right;\">\n",
       "      <th></th>\n",
       "      <th>parental level of education</th>\n",
       "      <th>math score</th>\n",
       "      <th>reading score</th>\n",
       "      <th>writing score</th>\n",
       "      <th>race/ethnicity_group B</th>\n",
       "      <th>race/ethnicity_group C</th>\n",
       "      <th>race/ethnicity_group D</th>\n",
       "      <th>race/ethnicity_group E</th>\n",
       "      <th>gender_male</th>\n",
       "      <th>lunch_standard</th>\n",
       "      <th>test preparation course_none</th>\n",
       "    </tr>\n",
       "  </thead>\n",
       "  <tbody>\n",
       "    <tr>\n",
       "      <th>89</th>\n",
       "      <td>4</td>\n",
       "      <td>0.074797</td>\n",
       "      <td>0.637632</td>\n",
       "      <td>0.857758</td>\n",
       "      <td>0</td>\n",
       "      <td>1</td>\n",
       "      <td>0</td>\n",
       "      <td>0</td>\n",
       "      <td>0</td>\n",
       "      <td>1</td>\n",
       "      <td>0</td>\n",
       "    </tr>\n",
       "    <tr>\n",
       "      <th>40</th>\n",
       "      <td>0</td>\n",
       "      <td>-0.764046</td>\n",
       "      <td>-1.212640</td>\n",
       "      <td>-1.102445</td>\n",
       "      <td>0</td>\n",
       "      <td>1</td>\n",
       "      <td>0</td>\n",
       "      <td>0</td>\n",
       "      <td>1</td>\n",
       "      <td>1</td>\n",
       "      <td>1</td>\n",
       "    </tr>\n",
       "    <tr>\n",
       "      <th>65</th>\n",
       "      <td>0</td>\n",
       "      <td>0.843736</td>\n",
       "      <td>0.424139</td>\n",
       "      <td>0.249419</td>\n",
       "      <td>1</td>\n",
       "      <td>0</td>\n",
       "      <td>0</td>\n",
       "      <td>0</td>\n",
       "      <td>1</td>\n",
       "      <td>0</td>\n",
       "      <td>1</td>\n",
       "    </tr>\n",
       "    <tr>\n",
       "      <th>42</th>\n",
       "      <td>5</td>\n",
       "      <td>-0.274721</td>\n",
       "      <td>0.281811</td>\n",
       "      <td>0.046639</td>\n",
       "      <td>0</td>\n",
       "      <td>0</td>\n",
       "      <td>1</td>\n",
       "      <td>0</td>\n",
       "      <td>0</td>\n",
       "      <td>1</td>\n",
       "      <td>1</td>\n",
       "    </tr>\n",
       "    <tr>\n",
       "      <th>30</th>\n",
       "      <td>2</td>\n",
       "      <td>-2.092214</td>\n",
       "      <td>-1.141475</td>\n",
       "      <td>-1.440411</td>\n",
       "      <td>0</td>\n",
       "      <td>1</td>\n",
       "      <td>0</td>\n",
       "      <td>0</td>\n",
       "      <td>0</td>\n",
       "      <td>0</td>\n",
       "      <td>1</td>\n",
       "    </tr>\n",
       "  </tbody>\n",
       "</table>\n",
       "</div>"
      ],
      "text/plain": [
       "    parental level of education  math score  reading score  writing score  \\\n",
       "89                            4    0.074797       0.637632       0.857758   \n",
       "40                            0   -0.764046      -1.212640      -1.102445   \n",
       "65                            0    0.843736       0.424139       0.249419   \n",
       "42                            5   -0.274721       0.281811       0.046639   \n",
       "30                            2   -2.092214      -1.141475      -1.440411   \n",
       "\n",
       "    race/ethnicity_group B  race/ethnicity_group C  race/ethnicity_group D  \\\n",
       "89                       0                       1                       0   \n",
       "40                       0                       1                       0   \n",
       "65                       1                       0                       0   \n",
       "42                       0                       0                       1   \n",
       "30                       0                       1                       0   \n",
       "\n",
       "    race/ethnicity_group E  gender_male  lunch_standard  \\\n",
       "89                       0            0               1   \n",
       "40                       0            1               1   \n",
       "65                       0            1               0   \n",
       "42                       0            0               1   \n",
       "30                       0            0               0   \n",
       "\n",
       "    test preparation course_none  \n",
       "89                             0  \n",
       "40                             1  \n",
       "65                             1  \n",
       "42                             1  \n",
       "30                             1  "
      ]
     },
     "execution_count": 2,
     "metadata": {},
     "output_type": "execute_result"
    }
   ],
   "source": [
    "exams_df = pd.read_csv('dataset/exams_processed.csv')\n",
    "exams_df.sample(5)"
   ]
  },
  {
   "cell_type": "code",
   "execution_count": 25,
   "metadata": {},
   "outputs": [],
   "source": [
    "x = exams_df.drop('math score', axis = 1)\n",
    "y = exams_df['math score']\n",
    "\n",
    "x_train, x_test, y_train, y_test = train_test_split(x, y, test_size = 0.2)"
   ]
  },
  {
   "cell_type": "code",
   "execution_count": 26,
   "metadata": {},
   "outputs": [
    {
     "data": {
      "text/plain": [
       "((80, 10), (80,), (20, 10), (20,))"
      ]
     },
     "execution_count": 26,
     "metadata": {},
     "output_type": "execute_result"
    }
   ],
   "source": [
    "x_train.shape, y_train.shape, x_test.shape, y_test.shape"
   ]
  },
  {
   "cell_type": "code",
   "execution_count": 27,
   "metadata": {},
   "outputs": [],
   "source": [
    "linear_model = LinearRegression(fit_intercept = True).fit(x_train, y_train)"
   ]
  },
  {
   "cell_type": "code",
   "execution_count": 28,
   "metadata": {},
   "outputs": [
    {
     "name": "stdout",
     "output_type": "stream",
     "text": [
      "Training Score:  0.8928617398304756\n"
     ]
    }
   ],
   "source": [
    "print('Training Score: ', linear_model.score(x_train, y_train))"
   ]
  },
  {
   "cell_type": "code",
   "execution_count": 29,
   "metadata": {},
   "outputs": [],
   "source": [
    "y_pred = linear_model.predict(x_test)"
   ]
  },
  {
   "cell_type": "code",
   "execution_count": 30,
   "metadata": {},
   "outputs": [
    {
     "name": "stdout",
     "output_type": "stream",
     "text": [
      "Testing Score:  0.8326169683788229\n"
     ]
    }
   ],
   "source": [
    "print('Testing Score: ', r2_score(y_test, y_pred))"
   ]
  },
  {
   "cell_type": "code",
   "execution_count": 31,
   "metadata": {},
   "outputs": [
    {
     "name": "stdout",
     "output_type": "stream",
     "text": [
      "Training Score:  0.8745205632390083\n",
      "Testing Score:  0.7670076835587532\n"
     ]
    }
   ],
   "source": [
    "linear_model = LinearRegression(fit_intercept = False).fit(x_train, y_train)\n",
    "\n",
    "print('Training Score: ', linear_model.score(x_train, y_train))\n",
    "\n",
    "y_pred = linear_model.predict(x_test)\n",
    "\n",
    "print('Testing Score: ', r2_score(y_test, y_pred))"
   ]
  },
  {
   "cell_type": "code",
   "execution_count": 32,
   "metadata": {
    "collapsed": true
   },
   "outputs": [
    {
     "data": {
      "text/html": [
       "<div>\n",
       "<style scoped>\n",
       "    .dataframe tbody tr th:only-of-type {\n",
       "        vertical-align: middle;\n",
       "    }\n",
       "\n",
       "    .dataframe tbody tr th {\n",
       "        vertical-align: top;\n",
       "    }\n",
       "\n",
       "    .dataframe thead th {\n",
       "        text-align: right;\n",
       "    }\n",
       "</style>\n",
       "<table border=\"1\" class=\"dataframe\">\n",
       "  <thead>\n",
       "    <tr style=\"text-align: right;\">\n",
       "      <th></th>\n",
       "      <th>predictions</th>\n",
       "      <th>Actual value</th>\n",
       "    </tr>\n",
       "  </thead>\n",
       "  <tbody>\n",
       "    <tr>\n",
       "      <th>79</th>\n",
       "      <td>0.621378</td>\n",
       "      <td>0.354411</td>\n",
       "    </tr>\n",
       "    <tr>\n",
       "      <th>41</th>\n",
       "      <td>-1.240700</td>\n",
       "      <td>-1.113564</td>\n",
       "    </tr>\n",
       "    <tr>\n",
       "      <th>95</th>\n",
       "      <td>-0.754042</td>\n",
       "      <td>-0.694142</td>\n",
       "    </tr>\n",
       "    <tr>\n",
       "      <th>82</th>\n",
       "      <td>0.285562</td>\n",
       "      <td>0.074797</td>\n",
       "    </tr>\n",
       "    <tr>\n",
       "      <th>62</th>\n",
       "      <td>-0.580898</td>\n",
       "      <td>-0.764046</td>\n",
       "    </tr>\n",
       "    <tr>\n",
       "      <th>76</th>\n",
       "      <td>0.855647</td>\n",
       "      <td>0.703929</td>\n",
       "    </tr>\n",
       "    <tr>\n",
       "      <th>3</th>\n",
       "      <td>0.012794</td>\n",
       "      <td>0.494218</td>\n",
       "    </tr>\n",
       "    <tr>\n",
       "      <th>73</th>\n",
       "      <td>-0.283710</td>\n",
       "      <td>-0.274721</td>\n",
       "    </tr>\n",
       "    <tr>\n",
       "      <th>25</th>\n",
       "      <td>0.018722</td>\n",
       "      <td>-0.344625</td>\n",
       "    </tr>\n",
       "    <tr>\n",
       "      <th>33</th>\n",
       "      <td>-1.337418</td>\n",
       "      <td>-1.113564</td>\n",
       "    </tr>\n",
       "    <tr>\n",
       "      <th>72</th>\n",
       "      <td>1.166157</td>\n",
       "      <td>0.634025</td>\n",
       "    </tr>\n",
       "    <tr>\n",
       "      <th>88</th>\n",
       "      <td>0.719741</td>\n",
       "      <td>0.703929</td>\n",
       "    </tr>\n",
       "    <tr>\n",
       "      <th>11</th>\n",
       "      <td>-0.440149</td>\n",
       "      <td>-0.274721</td>\n",
       "    </tr>\n",
       "    <tr>\n",
       "      <th>37</th>\n",
       "      <td>-0.595807</td>\n",
       "      <td>-0.204817</td>\n",
       "    </tr>\n",
       "    <tr>\n",
       "      <th>81</th>\n",
       "      <td>-0.428617</td>\n",
       "      <td>0.354411</td>\n",
       "    </tr>\n",
       "    <tr>\n",
       "      <th>87</th>\n",
       "      <td>-1.283068</td>\n",
       "      <td>-1.183467</td>\n",
       "    </tr>\n",
       "    <tr>\n",
       "      <th>42</th>\n",
       "      <td>-0.362752</td>\n",
       "      <td>-0.274721</td>\n",
       "    </tr>\n",
       "    <tr>\n",
       "      <th>75</th>\n",
       "      <td>-0.770556</td>\n",
       "      <td>-0.414528</td>\n",
       "    </tr>\n",
       "    <tr>\n",
       "      <th>39</th>\n",
       "      <td>0.128499</td>\n",
       "      <td>0.564122</td>\n",
       "    </tr>\n",
       "    <tr>\n",
       "      <th>47</th>\n",
       "      <td>-1.216622</td>\n",
       "      <td>-1.393178</td>\n",
       "    </tr>\n",
       "  </tbody>\n",
       "</table>\n",
       "</div>"
      ],
      "text/plain": [
       "    predictions  Actual value\n",
       "79     0.621378      0.354411\n",
       "41    -1.240700     -1.113564\n",
       "95    -0.754042     -0.694142\n",
       "82     0.285562      0.074797\n",
       "62    -0.580898     -0.764046\n",
       "76     0.855647      0.703929\n",
       "3      0.012794      0.494218\n",
       "73    -0.283710     -0.274721\n",
       "25     0.018722     -0.344625\n",
       "33    -1.337418     -1.113564\n",
       "72     1.166157      0.634025\n",
       "88     0.719741      0.703929\n",
       "11    -0.440149     -0.274721\n",
       "37    -0.595807     -0.204817\n",
       "81    -0.428617      0.354411\n",
       "87    -1.283068     -1.183467\n",
       "42    -0.362752     -0.274721\n",
       "75    -0.770556     -0.414528\n",
       "39     0.128499      0.564122\n",
       "47    -1.216622     -1.393178"
      ]
     },
     "execution_count": 32,
     "metadata": {},
     "output_type": "execute_result"
    }
   ],
   "source": [
    "df_pred = pd.DataFrame({'predictions' : y_pred,\n",
    "                        'Actual value': y_test\n",
    "                       })\n",
    "df_pred"
   ]
  },
  {
   "cell_type": "code",
   "execution_count": 34,
   "metadata": {
    "collapsed": true
   },
   "outputs": [
    {
     "data": {
      "text/plain": [
       "<matplotlib.legend.Legend at 0x2e17f3d7fa0>"
      ]
     },
     "execution_count": 34,
     "metadata": {},
     "output_type": "execute_result"
    },
    {
     "data": {
      "image/png": "[encoded data removed]",
      "text/plain": [
       "<Figure size 720x432 with 1 Axes>"
      ]
     },
     "metadata": {
      "needs_background": "light"
     },
     "output_type": "display_data"
    }
   ],
   "source": [
    "plt.figure(figsize = (10, 6))\n",
    "plt.plot(y_pred, label = 'predicted')\n",
    "plt.plot(y_test.values, label= 'actual', color = 'r')\n",
    "plt.ylabel('math score')\n",
    "plt.legend()"
   ]
  },
  {
   "cell_type": "code",
   "execution_count": 36,
   "metadata": {},
   "outputs": [
    {
     "name": "stdout",
     "output_type": "stream",
     "text": [
      "Training Score:  0.30943682385805804\n",
      "Testing Score:  0.09583010811584869\n"
     ]
    }
   ],
   "source": [
    "x = exams_df.drop(['math score','reading score', 'writing score'], axis = 1)\n",
    "y = exams_df['math score']\n",
    "\n",
    "x_train, x_test, y_train, y_test = train_test_split(x, y, test_size = 0.2)\n",
    "\n",
    "linear_model = LinearRegression(fit_intercept = True).fit(x_train, y_train)\n",
    "print('Training Score: ', linear_model.score(x_train, y_train))\n",
    "\n",
    "y_pred = linear_model.predict(x_test)\n",
    "print('Testing Score: ', r2_score(y_test, y_pred))"
   ]
  },
  {
   "cell_type": "code",
   "execution_count": 37,
   "metadata": {},
   "outputs": [
    {
     "data": {
      "text/plain": [
       "<matplotlib.legend.Legend at 0x2e1007e0940>"
      ]
     },
     "execution_count": 37,
     "metadata": {},
     "output_type": "execute_result"
    },
    {
     "data": {
      "image/png": "[encoded data removed]",
      "text/plain": [
       "<Figure size 720x432 with 1 Axes>"
      ]
     },
     "metadata": {
      "needs_background": "light"
     },
     "output_type": "display_data"
    }
   ],
   "source": [
    "plt.figure(figsize = (10, 6))\n",
    "plt.plot(y_pred, label = 'predicted')\n",
    "plt.plot(y_test.values, label= 'actual', color = 'r')\n",
    "plt.ylabel('math score')\n",
    "plt.legend()"
   ]
  },
  {
   "cell_type": "code",
   "execution_count": null,
   "metadata": {},
   "outputs": [],
   "source": []
  }
 ],
 "metadata": {
  "kernelspec": {
   "display_name": "Python 3",
   "language": "python",
   "name": "python3"
  },
  "language_info": {
   "codemirror_mode": {
    "name": "ipython",
    "version": 3
   },
   "file_extension": ".py",
   "mimetype": "text/x-python",
   "name": "python",
   "nbconvert_exporter": "python",
   "pygments_lexer": "ipython3",
   "version": "3.8.5"
  }
 },
 "nbformat": 4,
 "nbformat_minor": 4
}
